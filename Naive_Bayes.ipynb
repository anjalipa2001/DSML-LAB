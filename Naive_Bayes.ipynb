{
  "nbformat": 4,
  "nbformat_minor": 0,
  "metadata": {
    "colab": {
      "provenance": []
    },
    "kernelspec": {
      "name": "python3",
      "display_name": "Python 3"
    },
    "language_info": {
      "name": "python"
    }
  },
  "cells": [
    {
      "cell_type": "code",
      "execution_count": 8,
      "metadata": {
        "id": "7y2Jv_Oliq2J"
      },
      "outputs": [],
      "source": [
        "#import libraries\n",
        "from sklearn.model_selection import train_test_split\n",
        "from sklearn.metrics import accuracy_score,confusion_matrix,classification_report\n",
        "from sklearn.naive_bayes import GaussianNB\n",
        "from sklearn.datasets import load_iris\n",
        "import pandas as pd\n",
        "\n"
      ]
    },
    {
      "cell_type": "code",
      "source": [
        "#load the datasets and splitting\n",
        "x,y=load_iris(return_X_y=True)\n",
        "x_train,x_test,y_train,y_test=train_test_split(x,y,test_size=0.3,random_state=3)"
      ],
      "metadata": {
        "id": "LNSRcyK9kMwp"
      },
      "execution_count": 9,
      "outputs": []
    },
    {
      "cell_type": "code",
      "source": [
        "#modelling GaussianNB and predicting\n",
        "gnb=GaussianNB()\n",
        "gnb.fit(x_train,y_train)\n",
        "y_pred=gnb.predict(x_test)"
      ],
      "metadata": {
        "id": "qiKt6Pg6lRWH"
      },
      "execution_count": 11,
      "outputs": []
    },
    {
      "cell_type": "code",
      "source": [
        "#finding gaussian score,confusion matrix and classification report\n",
        "print(\"CONFUSION MATRIX :\\n \",confusion_matrix(y_test,y_pred))\n",
        "print(\"CLASSIFICATION REPORT :\",classification_report(y_test,y_pred))\n",
        "print(\"GAUSSIAN SCORE :\",gnb.score(x_test,y_test))"
      ],
      "metadata": {
        "colab": {
          "base_uri": "https://localhost:8080/"
        },
        "id": "hBm7KZTTl87W",
        "outputId": "57781f1c-5322-4412-90f1-a107974cc741"
      },
      "execution_count": 14,
      "outputs": [
        {
          "output_type": "stream",
          "name": "stdout",
          "text": [
            "CONFUSION MATRIX :\n",
            "  [[17  0  0]\n",
            " [ 0 13  1]\n",
            " [ 0  0 14]]\n",
            "CLASSIFICATION REPORT :               precision    recall  f1-score   support\n",
            "\n",
            "           0       1.00      1.00      1.00        17\n",
            "           1       1.00      0.93      0.96        14\n",
            "           2       0.93      1.00      0.97        14\n",
            "\n",
            "    accuracy                           0.98        45\n",
            "   macro avg       0.98      0.98      0.98        45\n",
            "weighted avg       0.98      0.98      0.98        45\n",
            "\n",
            "GAUSSIAN SCORE : 0.9777777777777777\n"
          ]
        }
      ]
    },
    {
      "cell_type": "code",
      "source": [
        "#predicting unknown values\n",
        "new=[[4,8,2,8]]\n",
        "y_predict=gnb.predict(new)\n",
        "print(y_predict)"
      ],
      "metadata": {
        "colab": {
          "base_uri": "https://localhost:8080/"
        },
        "id": "asn5nF0_mpAM",
        "outputId": "eaf9bd98-5393-4306-901f-69a75e1635b9"
      },
      "execution_count": 16,
      "outputs": [
        {
          "output_type": "stream",
          "name": "stdout",
          "text": [
            "[2]\n"
          ]
        }
      ]
    }
  ]
}